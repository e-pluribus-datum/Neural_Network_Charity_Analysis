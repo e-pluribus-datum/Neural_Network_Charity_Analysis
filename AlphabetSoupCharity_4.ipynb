{
 "cells": [
  {
   "cell_type": "markdown",
   "metadata": {},
   "source": [
    "### Pre-processing Data"
   ]
  },
  {
   "cell_type": "code",
   "execution_count": 1,
   "metadata": {},
   "outputs": [],
   "source": [
    "import os\n",
    "import pandas as pd\n",
    "from sklearn.model_selection import train_test_split\n",
    "from sklearn.preprocessing import StandardScaler, OneHotEncoder\n",
    "import tensorflow as tf\n",
    "\n",
    "import matplotlib.pyplot as plt\n",
    "import seaborn as sns"
   ]
  },
  {
   "cell_type": "code",
   "execution_count": 2,
   "metadata": {},
   "outputs": [],
   "source": [
    "# Set theme\n",
    "sns.set_style('darkgrid', {\n",
    "    'grid.linestyle': ':',\n",
    "    'grid.linewidth': 1.0})\n",
    "\n",
    "plt.style.use('dark_background')\n",
    "\n",
    "# Set version number of neural network\n",
    "nn_vers = 4"
   ]
  },
  {
   "cell_type": "code",
   "execution_count": 3,
   "metadata": {},
   "outputs": [
    {
     "data": {
      "text/html": [
       "<div>\n",
       "<style scoped>\n",
       "    .dataframe tbody tr th:only-of-type {\n",
       "        vertical-align: middle;\n",
       "    }\n",
       "\n",
       "    .dataframe tbody tr th {\n",
       "        vertical-align: top;\n",
       "    }\n",
       "\n",
       "    .dataframe thead th {\n",
       "        text-align: right;\n",
       "    }\n",
       "</style>\n",
       "<table border=\"1\" class=\"dataframe\">\n",
       "  <thead>\n",
       "    <tr style=\"text-align: right;\">\n",
       "      <th></th>\n",
       "      <th>EIN</th>\n",
       "      <th>NAME</th>\n",
       "      <th>APPLICATION_TYPE</th>\n",
       "      <th>AFFILIATION</th>\n",
       "      <th>CLASSIFICATION</th>\n",
       "      <th>USE_CASE</th>\n",
       "      <th>ORGANIZATION</th>\n",
       "      <th>STATUS</th>\n",
       "      <th>INCOME_AMT</th>\n",
       "      <th>SPECIAL_CONSIDERATIONS</th>\n",
       "      <th>ASK_AMT</th>\n",
       "      <th>IS_SUCCESSFUL</th>\n",
       "    </tr>\n",
       "  </thead>\n",
       "  <tbody>\n",
       "    <tr>\n",
       "      <th>0</th>\n",
       "      <td>10520599</td>\n",
       "      <td>BLUE KNIGHTS MOTORCYCLE CLUB</td>\n",
       "      <td>T10</td>\n",
       "      <td>Independent</td>\n",
       "      <td>C1000</td>\n",
       "      <td>ProductDev</td>\n",
       "      <td>Association</td>\n",
       "      <td>1</td>\n",
       "      <td>0</td>\n",
       "      <td>N</td>\n",
       "      <td>5000</td>\n",
       "      <td>1</td>\n",
       "    </tr>\n",
       "    <tr>\n",
       "      <th>1</th>\n",
       "      <td>10531628</td>\n",
       "      <td>AMERICAN CHESAPEAKE CLUB CHARITABLE TR</td>\n",
       "      <td>T3</td>\n",
       "      <td>Independent</td>\n",
       "      <td>C2000</td>\n",
       "      <td>Preservation</td>\n",
       "      <td>Co-operative</td>\n",
       "      <td>1</td>\n",
       "      <td>1-9999</td>\n",
       "      <td>N</td>\n",
       "      <td>108590</td>\n",
       "      <td>1</td>\n",
       "    </tr>\n",
       "    <tr>\n",
       "      <th>2</th>\n",
       "      <td>10547893</td>\n",
       "      <td>ST CLOUD PROFESSIONAL FIREFIGHTERS</td>\n",
       "      <td>T5</td>\n",
       "      <td>CompanySponsored</td>\n",
       "      <td>C3000</td>\n",
       "      <td>ProductDev</td>\n",
       "      <td>Association</td>\n",
       "      <td>1</td>\n",
       "      <td>0</td>\n",
       "      <td>N</td>\n",
       "      <td>5000</td>\n",
       "      <td>0</td>\n",
       "    </tr>\n",
       "    <tr>\n",
       "      <th>3</th>\n",
       "      <td>10553066</td>\n",
       "      <td>SOUTHSIDE ATHLETIC ASSOCIATION</td>\n",
       "      <td>T3</td>\n",
       "      <td>CompanySponsored</td>\n",
       "      <td>C2000</td>\n",
       "      <td>Preservation</td>\n",
       "      <td>Trust</td>\n",
       "      <td>1</td>\n",
       "      <td>10000-24999</td>\n",
       "      <td>N</td>\n",
       "      <td>6692</td>\n",
       "      <td>1</td>\n",
       "    </tr>\n",
       "    <tr>\n",
       "      <th>4</th>\n",
       "      <td>10556103</td>\n",
       "      <td>GENETIC RESEARCH INSTITUTE OF THE DESERT</td>\n",
       "      <td>T3</td>\n",
       "      <td>Independent</td>\n",
       "      <td>C1000</td>\n",
       "      <td>Heathcare</td>\n",
       "      <td>Trust</td>\n",
       "      <td>1</td>\n",
       "      <td>100000-499999</td>\n",
       "      <td>N</td>\n",
       "      <td>142590</td>\n",
       "      <td>1</td>\n",
       "    </tr>\n",
       "  </tbody>\n",
       "</table>\n",
       "</div>"
      ],
      "text/plain": [
       "        EIN                                      NAME APPLICATION_TYPE  \\\n",
       "0  10520599              BLUE KNIGHTS MOTORCYCLE CLUB              T10   \n",
       "1  10531628    AMERICAN CHESAPEAKE CLUB CHARITABLE TR               T3   \n",
       "2  10547893        ST CLOUD PROFESSIONAL FIREFIGHTERS               T5   \n",
       "3  10553066            SOUTHSIDE ATHLETIC ASSOCIATION               T3   \n",
       "4  10556103  GENETIC RESEARCH INSTITUTE OF THE DESERT               T3   \n",
       "\n",
       "        AFFILIATION CLASSIFICATION      USE_CASE  ORGANIZATION  STATUS  \\\n",
       "0       Independent          C1000    ProductDev   Association       1   \n",
       "1       Independent          C2000  Preservation  Co-operative       1   \n",
       "2  CompanySponsored          C3000    ProductDev   Association       1   \n",
       "3  CompanySponsored          C2000  Preservation         Trust       1   \n",
       "4       Independent          C1000     Heathcare         Trust       1   \n",
       "\n",
       "      INCOME_AMT SPECIAL_CONSIDERATIONS  ASK_AMT  IS_SUCCESSFUL  \n",
       "0              0                      N     5000              1  \n",
       "1         1-9999                      N   108590              1  \n",
       "2              0                      N     5000              0  \n",
       "3    10000-24999                      N     6692              1  \n",
       "4  100000-499999                      N   142590              1  "
      ]
     },
     "execution_count": 3,
     "metadata": {},
     "output_type": "execute_result"
    }
   ],
   "source": [
    "#  Import and read the charity_data.csv\n",
    "application_df = pd.read_csv(\"Data/charity_data.csv\")\n",
    "application_df.head()"
   ]
  },
  {
   "cell_type": "code",
   "execution_count": 4,
   "metadata": {},
   "outputs": [],
   "source": [
    "# Drop the non-beneficial ID column 'EIN'\n",
    "application_df.drop(columns=['EIN'], inplace=True)"
   ]
  },
  {
   "cell_type": "code",
   "execution_count": 5,
   "metadata": {},
   "outputs": [
    {
     "data": {
      "text/plain": [
       "NAME                      19568\n",
       "APPLICATION_TYPE             17\n",
       "AFFILIATION                   6\n",
       "CLASSIFICATION               71\n",
       "USE_CASE                      5\n",
       "ORGANIZATION                  4\n",
       "STATUS                        2\n",
       "INCOME_AMT                    9\n",
       "SPECIAL_CONSIDERATIONS        2\n",
       "ASK_AMT                    8747\n",
       "IS_SUCCESSFUL                 2\n",
       "dtype: int64"
      ]
     },
     "execution_count": 5,
     "metadata": {},
     "output_type": "execute_result"
    }
   ],
   "source": [
    "# Determine the number of unique values in each column\n",
    "application_df.nunique()"
   ]
  },
  {
   "cell_type": "code",
   "execution_count": 6,
   "metadata": {},
   "outputs": [
    {
     "name": "stdout",
     "output_type": "stream",
     "text": [
      "1    34294\n",
      "0        5\n",
      "Name: STATUS, dtype: int64 \n",
      "\n",
      "N    34272\n",
      "Y       27\n",
      "Name: SPECIAL_CONSIDERATIONS, dtype: int64\n"
     ]
    }
   ],
   "source": [
    "# Examine columns with few degrees of freedom to determine variability\n",
    "print(application_df['STATUS'].value_counts(), '\\n')\n",
    "print(application_df['SPECIAL_CONSIDERATIONS'].value_counts())"
   ]
  },
  {
   "cell_type": "code",
   "execution_count": 7,
   "metadata": {},
   "outputs": [],
   "source": [
    "# Drop columns with low variability\n",
    "application_df.drop(columns=['SPECIAL_CONSIDERATIONS', 'STATUS'],\n",
    "    inplace=True)"
   ]
  },
  {
   "cell_type": "code",
   "execution_count": 8,
   "metadata": {},
   "outputs": [
    {
     "data": {
      "text/plain": [
       "['NAME', 'APPLICATION_TYPE', 'CLASSIFICATION', 'ASK_AMT']"
      ]
     },
     "execution_count": 8,
     "metadata": {},
     "output_type": "execute_result"
    }
   ],
   "source": [
    "# Store list of columns with more than 10 unique values\n",
    "unique_cols = list(application_df.columns[(application_df.nunique() > 10)])\n",
    "unique_cols"
   ]
  },
  {
   "cell_type": "code",
   "execution_count": 9,
   "metadata": {},
   "outputs": [
    {
     "data": {
      "text/plain": [
       "T3     27037\n",
       "T4      1542\n",
       "T6      1216\n",
       "T5      1173\n",
       "T19     1065\n",
       "T8       737\n",
       "T7       725\n",
       "T10      528\n",
       "T9       156\n",
       "T13       66\n",
       "T12       27\n",
       "T2        16\n",
       "T25        3\n",
       "T14        3\n",
       "T29        2\n",
       "T15        2\n",
       "T17        1\n",
       "Name: APPLICATION_TYPE, dtype: int64"
      ]
     },
     "execution_count": 9,
     "metadata": {},
     "output_type": "execute_result"
    }
   ],
   "source": [
    "# Look at APPLICATION_TYPE value counts for binning\n",
    "app_counts = application_df['APPLICATION_TYPE'].value_counts()\n",
    "app_counts"
   ]
  },
  {
   "cell_type": "code",
   "execution_count": 10,
   "metadata": {},
   "outputs": [
    {
     "data": {
      "text/plain": [
       "<AxesSubplot:ylabel='Density'>"
      ]
     },
     "execution_count": 10,
     "metadata": {},
     "output_type": "execute_result"
    },
    {
     "data": {
      "image/png": "[encoded data removed]",
      "text/plain": [
       "<Figure size 432x288 with 1 Axes>"
      ]
     },
     "metadata": {},
     "output_type": "display_data"
    }
   ],
   "source": [
    "# Visualize the value counts of APPLICATION_TYPE\n",
    "app_counts.plot.density()"
   ]
  },
  {
   "cell_type": "code",
   "execution_count": 11,
   "metadata": {},
   "outputs": [
    {
     "data": {
      "text/plain": [
       "<AxesSubplot:ylabel='Density'>"
      ]
     },
     "execution_count": 11,
     "metadata": {},
     "output_type": "execute_result"
    },
    {
     "data": {
      "image/png": "[encoded data removed]",
      "text/plain": [
       "<Figure size 432x288 with 1 Axes>"
      ]
     },
     "metadata": {},
     "output_type": "display_data"
    }
   ],
   "source": [
    "# Remove outlier to examine graph at higher resolution\n",
    "app_counts[1:].plot.density()"
   ]
  },
  {
   "cell_type": "code",
   "execution_count": 12,
   "metadata": {},
   "outputs": [
    {
     "data": {
      "text/plain": [
       "T3       27037\n",
       "T4        1542\n",
       "T6        1216\n",
       "T5        1173\n",
       "T19       1065\n",
       "T8         737\n",
       "T7         725\n",
       "T10        528\n",
       "Other      276\n",
       "Name: APPLICATION_TYPE, dtype: int64"
      ]
     },
     "execution_count": 12,
     "metadata": {},
     "output_type": "execute_result"
    }
   ],
   "source": [
    "# Store list of applications to replace (if type occurs less than 500 times)\n",
    "replace_application = list(app_counts[app_counts < 500].index)\n",
    "\n",
    "# Replace in DataFrame\n",
    "for app in replace_application:\n",
    "    application_df.APPLICATION_TYPE = application_df.APPLICATION_TYPE.replace(app,\"Other\")\n",
    "    \n",
    "# Check to make sure binning was successful\n",
    "application_df.APPLICATION_TYPE.value_counts()"
   ]
  },
  {
   "cell_type": "code",
   "execution_count": 13,
   "metadata": {},
   "outputs": [
    {
     "data": {
      "text/plain": [
       "C1000    17326\n",
       "C2000     6074\n",
       "C1200     4837\n",
       "C3000     1918\n",
       "C2100     1883\n",
       "C7000      777\n",
       "C1700      287\n",
       "C4000      194\n",
       "C5000      116\n",
       "C1270      114\n",
       "C2700      104\n",
       "C2800       95\n",
       "C7100       75\n",
       "C1300       58\n",
       "C1280       50\n",
       "Name: CLASSIFICATION, dtype: int64"
      ]
     },
     "execution_count": 13,
     "metadata": {},
     "output_type": "execute_result"
    }
   ],
   "source": [
    "# Look at CLASSIFICATION value counts for binning\n",
    "class_counts = application_df['CLASSIFICATION'].value_counts()\n",
    "class_counts[:15]"
   ]
  },
  {
   "cell_type": "code",
   "execution_count": 14,
   "metadata": {},
   "outputs": [
    {
     "data": {
      "text/plain": [
       "<AxesSubplot:ylabel='Density'>"
      ]
     },
     "execution_count": 14,
     "metadata": {},
     "output_type": "execute_result"
    },
    {
     "data": {
      "image/png": "[encoded data removed]",
      "text/plain": [
       "<Figure size 432x288 with 1 Axes>"
      ]
     },
     "metadata": {},
     "output_type": "display_data"
    }
   ],
   "source": [
    "# Visualize the value counts of CLASSIFICATION\n",
    "class_counts.plot.density()"
   ]
  },
  {
   "cell_type": "code",
   "execution_count": 15,
   "metadata": {},
   "outputs": [
    {
     "data": {
      "text/plain": [
       "<AxesSubplot:ylabel='Density'>"
      ]
     },
     "execution_count": 15,
     "metadata": {},
     "output_type": "execute_result"
    },
    {
     "data": {
      "image/png": "[encoded data removed]",
      "text/plain": [
       "<Figure size 432x288 with 1 Axes>"
      ]
     },
     "metadata": {},
     "output_type": "display_data"
    }
   ],
   "source": [
    "# Remove outliers to examine graph at higher resolution\n",
    "class_counts[7:].plot.density()"
   ]
  },
  {
   "cell_type": "code",
   "execution_count": 16,
   "metadata": {},
   "outputs": [
    {
     "data": {
      "text/plain": [
       "C1000    17326\n",
       "C2000     6074\n",
       "C1200     4837\n",
       "C3000     1918\n",
       "C2100     1883\n",
       "Other     1003\n",
       "C7000      777\n",
       "C1700      287\n",
       "C4000      194\n",
       "Name: CLASSIFICATION, dtype: int64"
      ]
     },
     "execution_count": 16,
     "metadata": {},
     "output_type": "execute_result"
    }
   ],
   "source": [
    "# Store list of applications to replace (if type occurs less than 150 times)\n",
    "replace_class = list(class_counts[class_counts < 150].index)\n",
    "\n",
    "# Replace in dataframe\n",
    "for cls in replace_class:\n",
    "    application_df.CLASSIFICATION = application_df.CLASSIFICATION.replace(cls,\"Other\")\n",
    "    \n",
    "# Check to make sure binning was successful\n",
    "application_df.CLASSIFICATION.value_counts()"
   ]
  },
  {
   "cell_type": "code",
   "execution_count": 17,
   "metadata": {},
   "outputs": [
    {
     "data": {
      "text/plain": [
       "PARENT BOOSTER USA INC                                                  1260\n",
       "TOPS CLUB INC                                                            765\n",
       "UNITED STATES BOWLING CONGRESS INC                                       700\n",
       "WASHINGTON STATE UNIVERSITY                                              492\n",
       "AMATEUR ATHLETIC UNION OF THE UNITED STATES INC                          408\n",
       "                                                                        ... \n",
       "ST LOUIS SLAM WOMENS FOOTBALL                                              1\n",
       "AIESEC ALUMNI IBEROAMERICA CORP                                            1\n",
       "WEALLBLEEDRED ORG INC                                                      1\n",
       "AMERICAN SOCIETY FOR STANDARDS IN MEDIUMSHIP & PSYCHICAL INVESTIGATI       1\n",
       "WATERHOUSE CHARITABLE TR                                                   1\n",
       "Name: NAME, Length: 19568, dtype: int64"
      ]
     },
     "execution_count": 17,
     "metadata": {},
     "output_type": "execute_result"
    }
   ],
   "source": [
    "# Look at NAME value counts for binning\n",
    "name_counts = application_df['NAME'].value_counts()\n",
    "name_counts"
   ]
  },
  {
   "cell_type": "code",
   "execution_count": 18,
   "metadata": {},
   "outputs": [
    {
     "data": {
      "text/plain": [
       "<AxesSubplot:ylabel='Density'>"
      ]
     },
     "execution_count": 18,
     "metadata": {},
     "output_type": "execute_result"
    },
    {
     "data": {
      "image/png": "[encoded data removed]",
      "text/plain": [
       "<Figure size 432x288 with 1 Axes>"
      ]
     },
     "metadata": {},
     "output_type": "display_data"
    }
   ],
   "source": [
    "# Visualize the value counts of NAME\n",
    "name_counts.plot.density()"
   ]
  },
  {
   "cell_type": "code",
   "execution_count": 19,
   "metadata": {},
   "outputs": [
    {
     "data": {
      "text/plain": [
       "count    19568.000000\n",
       "mean         1.752811\n",
       "std         14.786174\n",
       "min          1.000000\n",
       "25%          1.000000\n",
       "50%          1.000000\n",
       "75%          1.000000\n",
       "max       1260.000000\n",
       "Name: NAME, dtype: float64"
      ]
     },
     "execution_count": 19,
     "metadata": {},
     "output_type": "execute_result"
    }
   ],
   "source": [
    "# Describe NAME central tendencies\n",
    "name_counts.describe()"
   ]
  },
  {
   "cell_type": "code",
   "execution_count": 20,
   "metadata": {},
   "outputs": [
    {
     "name": "stdout",
     "output_type": "stream",
     "text": [
      "Occurences: 1,  Names:18776\n",
      "Occurences: 2,  Names:215\n",
      "Occurences: 3,  Names:103\n",
      "Occurences: 4,  Names:72\n",
      "Occurences: 5,  Names:48\n",
      "Occurences: 6,  Names:39\n",
      "Occurences: 7,  Names:31\n",
      "Occurences: 8,  Names:30\n",
      "Occurences: 9,  Names:32\n",
      "Occurences: 10,  Names:18\n",
      "Occurences: 11,  Names:10\n",
      "Occurences: 12,  Names:11\n",
      "Occurences: 13,  Names:15\n",
      "Occurences: 14,  Names:8\n",
      "Occurences: 15,  Names:11\n",
      "Occurences: 16,  Names:6\n",
      "Occurences: 17,  Names:8\n",
      "Occurences: 18,  Names:5\n",
      "Occurences: 19,  Names:9\n",
      "Occurences: 20,  Names:3\n",
      "Occurences: 21,  Names:7\n",
      "Occurences: 22,  Names:6\n",
      "Occurences: 23,  Names:7\n",
      "Occurences: 24,  Names:3\n",
      "Occurences: 25,  Names:2\n"
     ]
    }
   ],
   "source": [
    "# Show how many names occur 1 - 25 times\n",
    "for i in range(1,26):\n",
    "    print(f'Occurences: {i},  Names:' + f'{len(name_counts[(name_counts == i)])}')"
   ]
  },
  {
   "cell_type": "code",
   "execution_count": 21,
   "metadata": {},
   "outputs": [
    {
     "data": {
      "text/plain": [
       "<AxesSubplot:ylabel='Density'>"
      ]
     },
     "execution_count": 21,
     "metadata": {},
     "output_type": "execute_result"
    },
    {
     "data": {
      "image/png": "[encoded data removed]",
      "text/plain": [
       "<Figure size 432x288 with 1 Axes>"
      ]
     },
     "metadata": {},
     "output_type": "display_data"
    }
   ],
   "source": [
    "# Most names occur only once\n",
    "# View density of names that occur 2 - 20 times\n",
    "name_counts[(name_counts > 1) & (name_counts <= 20)].plot.density()"
   ]
  },
  {
   "cell_type": "code",
   "execution_count": 22,
   "metadata": {},
   "outputs": [
    {
     "data": {
      "text/plain": [
       "<AxesSubplot:ylabel='Density'>"
      ]
     },
     "execution_count": 22,
     "metadata": {},
     "output_type": "execute_result"
    },
    {
     "data": {
      "image/png": "[encoded data removed]",
      "text/plain": [
       "<Figure size 432x288 with 1 Axes>"
      ]
     },
     "metadata": {},
     "output_type": "display_data"
    }
   ],
   "source": [
    "# View density of names that occur 2 - 75 times\n",
    "name_counts[(name_counts > 1) & (name_counts <= 75)].plot.density()"
   ]
  },
  {
   "cell_type": "code",
   "execution_count": 23,
   "metadata": {},
   "outputs": [
    {
     "data": {
      "text/plain": [
       "<AxesSubplot:ylabel='Density'>"
      ]
     },
     "execution_count": 23,
     "metadata": {},
     "output_type": "execute_result"
    },
    {
     "data": {
      "image/png": "[encoded data removed]",
      "text/plain": [
       "<Figure size 432x288 with 1 Axes>"
      ]
     },
     "metadata": {},
     "output_type": "display_data"
    }
   ],
   "source": [
    "# View density of names that occur 75 - 1000 times\n",
    "name_counts[(name_counts > 75) & (name_counts <= 1000)].plot.density()"
   ]
  },
  {
   "cell_type": "code",
   "execution_count": 24,
   "metadata": {},
   "outputs": [
    {
     "data": {
      "text/plain": [
       "One-time donation                               18776\n",
       "2 - 5 donations                                  1267\n",
       "PARENT BOOSTER USA INC                           1260\n",
       "TOPS CLUB INC                                     765\n",
       "UNITED STATES BOWLING CONGRESS INC                700\n",
       "                                                ...  \n",
       "HABITAT FOR HUMANITY INTERNATIONAL                  6\n",
       "DAMAGE PREVENTION COUNCIL OF TEXAS                  6\n",
       "FLEET RESERVE ASSOCIATION                           6\n",
       "HUGH OBRIAN YOUTH LEADERSHIP                        6\n",
       "INTERNATIONAL CONGRESS OF CHURCHES MINISTERS        6\n",
       "Name: NAME, Length: 356, dtype: int64"
      ]
     },
     "execution_count": 24,
     "metadata": {},
     "output_type": "execute_result"
    }
   ],
   "source": [
    "# Bin one-time donors into single category\n",
    "replace_1 = list(name_counts[name_counts == 1].index)\n",
    "replace_2 = list(name_counts[(name_counts >= 2) & (name_counts <= 5)].index)\n",
    "\n",
    "for app in replace_1:\n",
    "    application_df['NAME'] = application_df['NAME'].replace(app, 'One-time donation')\n",
    "\n",
    "for app in replace_2:\n",
    "    application_df['NAME'] = application_df['NAME'].replace(app, '2 - 5 donations')\n",
    "\n",
    "application_df['NAME'].value_counts()"
   ]
  },
  {
   "cell_type": "code",
   "execution_count": 25,
   "metadata": {},
   "outputs": [
    {
     "data": {
      "text/plain": [
       "NAME                 356\n",
       "APPLICATION_TYPE       9\n",
       "AFFILIATION            6\n",
       "CLASSIFICATION         9\n",
       "USE_CASE               5\n",
       "ORGANIZATION           4\n",
       "INCOME_AMT             9\n",
       "ASK_AMT             8747\n",
       "IS_SUCCESSFUL          2\n",
       "dtype: int64"
      ]
     },
     "execution_count": 25,
     "metadata": {},
     "output_type": "execute_result"
    }
   ],
   "source": [
    "application_df.nunique()"
   ]
  },
  {
   "cell_type": "code",
   "execution_count": 26,
   "metadata": {},
   "outputs": [
    {
     "name": "stdout",
     "output_type": "stream",
     "text": [
      "<class 'pandas.core.frame.DataFrame'>\n",
      "RangeIndex: 34299 entries, 0 to 34298\n",
      "Data columns (total 9 columns):\n",
      " #   Column            Non-Null Count  Dtype \n",
      "---  ------            --------------  ----- \n",
      " 0   NAME              34299 non-null  object\n",
      " 1   APPLICATION_TYPE  34299 non-null  object\n",
      " 2   AFFILIATION       34299 non-null  object\n",
      " 3   CLASSIFICATION    34299 non-null  object\n",
      " 4   USE_CASE          34299 non-null  object\n",
      " 5   ORGANIZATION      34299 non-null  object\n",
      " 6   INCOME_AMT        34299 non-null  object\n",
      " 7   ASK_AMT           34299 non-null  int64 \n",
      " 8   IS_SUCCESSFUL     34299 non-null  int64 \n",
      "dtypes: int64(2), object(7)\n",
      "memory usage: 2.4+ MB\n"
     ]
    }
   ],
   "source": [
    "# Check DataFrame data types\n",
    "# Ask_amount is numerical and does not need categorization.\n",
    "application_df.info()"
   ]
  },
  {
   "cell_type": "code",
   "execution_count": 27,
   "metadata": {},
   "outputs": [
    {
     "data": {
      "text/plain": [
       "['NAME',\n",
       " 'APPLICATION_TYPE',\n",
       " 'AFFILIATION',\n",
       " 'CLASSIFICATION',\n",
       " 'USE_CASE',\n",
       " 'ORGANIZATION',\n",
       " 'INCOME_AMT']"
      ]
     },
     "execution_count": 27,
     "metadata": {},
     "output_type": "execute_result"
    }
   ],
   "source": [
    "# Generate list of columns to be categorized\n",
    "application_cat = application_df.dtypes[application_df.dtypes == \"object\"]\\\n",
    "    .index.tolist()\n",
    "application_cat"
   ]
  },
  {
   "cell_type": "code",
   "execution_count": 28,
   "metadata": {},
   "outputs": [
    {
     "data": {
      "text/html": [
       "<div>\n",
       "<style scoped>\n",
       "    .dataframe tbody tr th:only-of-type {\n",
       "        vertical-align: middle;\n",
       "    }\n",
       "\n",
       "    .dataframe tbody tr th {\n",
       "        vertical-align: top;\n",
       "    }\n",
       "\n",
       "    .dataframe thead th {\n",
       "        text-align: right;\n",
       "    }\n",
       "</style>\n",
       "<table border=\"1\" class=\"dataframe\">\n",
       "  <thead>\n",
       "    <tr style=\"text-align: right;\">\n",
       "      <th></th>\n",
       "      <th>NAME_2 - 5 donations</th>\n",
       "      <th>NAME_AACE INTERNATIONAL</th>\n",
       "      <th>NAME_ACE MENTOR PROGRAM OF AMERICA INC</th>\n",
       "      <th>NAME_AFRICAN-AMERICAN POSTAL LEAGUE UNITED FOR SUCCESS A-PLUS</th>\n",
       "      <th>NAME_AIR FORCE ASSOCIATION</th>\n",
       "      <th>NAME_ALABAMA FEDERATION OF WOMENS CLUBS</th>\n",
       "      <th>NAME_ALABAMA TREASURE FOREST ASSOCIATION</th>\n",
       "      <th>NAME_ALBANY STATE UNIVERSITY NATIONAL ALUMNI ASSOCIATION</th>\n",
       "      <th>NAME_ALPHA PHI OMEGA</th>\n",
       "      <th>NAME_ALPHA PHI SIGMA</th>\n",
       "      <th>...</th>\n",
       "      <th>ORGANIZATION_Trust</th>\n",
       "      <th>INCOME_AMT_0</th>\n",
       "      <th>INCOME_AMT_1-9999</th>\n",
       "      <th>INCOME_AMT_10000-24999</th>\n",
       "      <th>INCOME_AMT_100000-499999</th>\n",
       "      <th>INCOME_AMT_10M-50M</th>\n",
       "      <th>INCOME_AMT_1M-5M</th>\n",
       "      <th>INCOME_AMT_25000-99999</th>\n",
       "      <th>INCOME_AMT_50M+</th>\n",
       "      <th>INCOME_AMT_5M-10M</th>\n",
       "    </tr>\n",
       "  </thead>\n",
       "  <tbody>\n",
       "    <tr>\n",
       "      <th>0</th>\n",
       "      <td>0.0</td>\n",
       "      <td>0.0</td>\n",
       "      <td>0.0</td>\n",
       "      <td>0.0</td>\n",
       "      <td>0.0</td>\n",
       "      <td>0.0</td>\n",
       "      <td>0.0</td>\n",
       "      <td>0.0</td>\n",
       "      <td>0.0</td>\n",
       "      <td>0.0</td>\n",
       "      <td>...</td>\n",
       "      <td>0.0</td>\n",
       "      <td>1.0</td>\n",
       "      <td>0.0</td>\n",
       "      <td>0.0</td>\n",
       "      <td>0.0</td>\n",
       "      <td>0.0</td>\n",
       "      <td>0.0</td>\n",
       "      <td>0.0</td>\n",
       "      <td>0.0</td>\n",
       "      <td>0.0</td>\n",
       "    </tr>\n",
       "    <tr>\n",
       "      <th>1</th>\n",
       "      <td>0.0</td>\n",
       "      <td>0.0</td>\n",
       "      <td>0.0</td>\n",
       "      <td>0.0</td>\n",
       "      <td>0.0</td>\n",
       "      <td>0.0</td>\n",
       "      <td>0.0</td>\n",
       "      <td>0.0</td>\n",
       "      <td>0.0</td>\n",
       "      <td>0.0</td>\n",
       "      <td>...</td>\n",
       "      <td>0.0</td>\n",
       "      <td>0.0</td>\n",
       "      <td>1.0</td>\n",
       "      <td>0.0</td>\n",
       "      <td>0.0</td>\n",
       "      <td>0.0</td>\n",
       "      <td>0.0</td>\n",
       "      <td>0.0</td>\n",
       "      <td>0.0</td>\n",
       "      <td>0.0</td>\n",
       "    </tr>\n",
       "    <tr>\n",
       "      <th>2</th>\n",
       "      <td>0.0</td>\n",
       "      <td>0.0</td>\n",
       "      <td>0.0</td>\n",
       "      <td>0.0</td>\n",
       "      <td>0.0</td>\n",
       "      <td>0.0</td>\n",
       "      <td>0.0</td>\n",
       "      <td>0.0</td>\n",
       "      <td>0.0</td>\n",
       "      <td>0.0</td>\n",
       "      <td>...</td>\n",
       "      <td>0.0</td>\n",
       "      <td>1.0</td>\n",
       "      <td>0.0</td>\n",
       "      <td>0.0</td>\n",
       "      <td>0.0</td>\n",
       "      <td>0.0</td>\n",
       "      <td>0.0</td>\n",
       "      <td>0.0</td>\n",
       "      <td>0.0</td>\n",
       "      <td>0.0</td>\n",
       "    </tr>\n",
       "    <tr>\n",
       "      <th>3</th>\n",
       "      <td>0.0</td>\n",
       "      <td>0.0</td>\n",
       "      <td>0.0</td>\n",
       "      <td>0.0</td>\n",
       "      <td>0.0</td>\n",
       "      <td>0.0</td>\n",
       "      <td>0.0</td>\n",
       "      <td>0.0</td>\n",
       "      <td>0.0</td>\n",
       "      <td>0.0</td>\n",
       "      <td>...</td>\n",
       "      <td>1.0</td>\n",
       "      <td>0.0</td>\n",
       "      <td>0.0</td>\n",
       "      <td>1.0</td>\n",
       "      <td>0.0</td>\n",
       "      <td>0.0</td>\n",
       "      <td>0.0</td>\n",
       "      <td>0.0</td>\n",
       "      <td>0.0</td>\n",
       "      <td>0.0</td>\n",
       "    </tr>\n",
       "    <tr>\n",
       "      <th>4</th>\n",
       "      <td>0.0</td>\n",
       "      <td>0.0</td>\n",
       "      <td>0.0</td>\n",
       "      <td>0.0</td>\n",
       "      <td>0.0</td>\n",
       "      <td>0.0</td>\n",
       "      <td>0.0</td>\n",
       "      <td>0.0</td>\n",
       "      <td>0.0</td>\n",
       "      <td>0.0</td>\n",
       "      <td>...</td>\n",
       "      <td>1.0</td>\n",
       "      <td>0.0</td>\n",
       "      <td>0.0</td>\n",
       "      <td>0.0</td>\n",
       "      <td>1.0</td>\n",
       "      <td>0.0</td>\n",
       "      <td>0.0</td>\n",
       "      <td>0.0</td>\n",
       "      <td>0.0</td>\n",
       "      <td>0.0</td>\n",
       "    </tr>\n",
       "  </tbody>\n",
       "</table>\n",
       "<p>5 rows × 398 columns</p>\n",
       "</div>"
      ],
      "text/plain": [
       "   NAME_2 - 5 donations  NAME_AACE INTERNATIONAL  \\\n",
       "0                   0.0                      0.0   \n",
       "1                   0.0                      0.0   \n",
       "2                   0.0                      0.0   \n",
       "3                   0.0                      0.0   \n",
       "4                   0.0                      0.0   \n",
       "\n",
       "   NAME_ACE MENTOR PROGRAM OF AMERICA INC  \\\n",
       "0                                     0.0   \n",
       "1                                     0.0   \n",
       "2                                     0.0   \n",
       "3                                     0.0   \n",
       "4                                     0.0   \n",
       "\n",
       "   NAME_AFRICAN-AMERICAN POSTAL LEAGUE UNITED FOR SUCCESS A-PLUS  \\\n",
       "0                                                0.0               \n",
       "1                                                0.0               \n",
       "2                                                0.0               \n",
       "3                                                0.0               \n",
       "4                                                0.0               \n",
       "\n",
       "   NAME_AIR FORCE ASSOCIATION  NAME_ALABAMA FEDERATION OF WOMENS CLUBS  \\\n",
       "0                         0.0                                      0.0   \n",
       "1                         0.0                                      0.0   \n",
       "2                         0.0                                      0.0   \n",
       "3                         0.0                                      0.0   \n",
       "4                         0.0                                      0.0   \n",
       "\n",
       "   NAME_ALABAMA TREASURE FOREST ASSOCIATION  \\\n",
       "0                                       0.0   \n",
       "1                                       0.0   \n",
       "2                                       0.0   \n",
       "3                                       0.0   \n",
       "4                                       0.0   \n",
       "\n",
       "   NAME_ALBANY STATE UNIVERSITY NATIONAL ALUMNI ASSOCIATION  \\\n",
       "0                                                0.0          \n",
       "1                                                0.0          \n",
       "2                                                0.0          \n",
       "3                                                0.0          \n",
       "4                                                0.0          \n",
       "\n",
       "   NAME_ALPHA PHI OMEGA  NAME_ALPHA PHI SIGMA  ...  ORGANIZATION_Trust  \\\n",
       "0                   0.0                   0.0  ...                 0.0   \n",
       "1                   0.0                   0.0  ...                 0.0   \n",
       "2                   0.0                   0.0  ...                 0.0   \n",
       "3                   0.0                   0.0  ...                 1.0   \n",
       "4                   0.0                   0.0  ...                 1.0   \n",
       "\n",
       "   INCOME_AMT_0  INCOME_AMT_1-9999  INCOME_AMT_10000-24999  \\\n",
       "0           1.0                0.0                     0.0   \n",
       "1           0.0                1.0                     0.0   \n",
       "2           1.0                0.0                     0.0   \n",
       "3           0.0                0.0                     1.0   \n",
       "4           0.0                0.0                     0.0   \n",
       "\n",
       "   INCOME_AMT_100000-499999  INCOME_AMT_10M-50M  INCOME_AMT_1M-5M  \\\n",
       "0                       0.0                 0.0               0.0   \n",
       "1                       0.0                 0.0               0.0   \n",
       "2                       0.0                 0.0               0.0   \n",
       "3                       0.0                 0.0               0.0   \n",
       "4                       1.0                 0.0               0.0   \n",
       "\n",
       "   INCOME_AMT_25000-99999  INCOME_AMT_50M+  INCOME_AMT_5M-10M  \n",
       "0                     0.0              0.0                0.0  \n",
       "1                     0.0              0.0                0.0  \n",
       "2                     0.0              0.0                0.0  \n",
       "3                     0.0              0.0                0.0  \n",
       "4                     0.0              0.0                0.0  \n",
       "\n",
       "[5 rows x 398 columns]"
      ]
     },
     "execution_count": 28,
     "metadata": {},
     "output_type": "execute_result"
    }
   ],
   "source": [
    "# Create a OneHotEncoder instance\n",
    "enc = OneHotEncoder(sparse=False)\n",
    "\n",
    "# Fit and transform the OneHotEncoder using the categorical variable list\n",
    "encode_df = pd.DataFrame(enc.fit_transform(application_df[application_cat]))\n",
    "\n",
    "# Add the encoded variable names to the dataframe\n",
    "encode_df.columns = enc.get_feature_names_out(application_cat)\n",
    "encode_df.head()"
   ]
  },
  {
   "cell_type": "code",
   "execution_count": 29,
   "metadata": {},
   "outputs": [
    {
     "data": {
      "text/html": [
       "<div>\n",
       "<style scoped>\n",
       "    .dataframe tbody tr th:only-of-type {\n",
       "        vertical-align: middle;\n",
       "    }\n",
       "\n",
       "    .dataframe tbody tr th {\n",
       "        vertical-align: top;\n",
       "    }\n",
       "\n",
       "    .dataframe thead th {\n",
       "        text-align: right;\n",
       "    }\n",
       "</style>\n",
       "<table border=\"1\" class=\"dataframe\">\n",
       "  <thead>\n",
       "    <tr style=\"text-align: right;\">\n",
       "      <th></th>\n",
       "      <th>ASK_AMT</th>\n",
       "      <th>IS_SUCCESSFUL</th>\n",
       "      <th>NAME_2 - 5 donations</th>\n",
       "      <th>NAME_AACE INTERNATIONAL</th>\n",
       "      <th>NAME_ACE MENTOR PROGRAM OF AMERICA INC</th>\n",
       "      <th>NAME_AFRICAN-AMERICAN POSTAL LEAGUE UNITED FOR SUCCESS A-PLUS</th>\n",
       "      <th>NAME_AIR FORCE ASSOCIATION</th>\n",
       "      <th>NAME_ALABAMA FEDERATION OF WOMENS CLUBS</th>\n",
       "      <th>NAME_ALABAMA TREASURE FOREST ASSOCIATION</th>\n",
       "      <th>NAME_ALBANY STATE UNIVERSITY NATIONAL ALUMNI ASSOCIATION</th>\n",
       "      <th>...</th>\n",
       "      <th>ORGANIZATION_Trust</th>\n",
       "      <th>INCOME_AMT_0</th>\n",
       "      <th>INCOME_AMT_1-9999</th>\n",
       "      <th>INCOME_AMT_10000-24999</th>\n",
       "      <th>INCOME_AMT_100000-499999</th>\n",
       "      <th>INCOME_AMT_10M-50M</th>\n",
       "      <th>INCOME_AMT_1M-5M</th>\n",
       "      <th>INCOME_AMT_25000-99999</th>\n",
       "      <th>INCOME_AMT_50M+</th>\n",
       "      <th>INCOME_AMT_5M-10M</th>\n",
       "    </tr>\n",
       "  </thead>\n",
       "  <tbody>\n",
       "    <tr>\n",
       "      <th>0</th>\n",
       "      <td>5000</td>\n",
       "      <td>1</td>\n",
       "      <td>0.0</td>\n",
       "      <td>0.0</td>\n",
       "      <td>0.0</td>\n",
       "      <td>0.0</td>\n",
       "      <td>0.0</td>\n",
       "      <td>0.0</td>\n",
       "      <td>0.0</td>\n",
       "      <td>0.0</td>\n",
       "      <td>...</td>\n",
       "      <td>0.0</td>\n",
       "      <td>1.0</td>\n",
       "      <td>0.0</td>\n",
       "      <td>0.0</td>\n",
       "      <td>0.0</td>\n",
       "      <td>0.0</td>\n",
       "      <td>0.0</td>\n",
       "      <td>0.0</td>\n",
       "      <td>0.0</td>\n",
       "      <td>0.0</td>\n",
       "    </tr>\n",
       "    <tr>\n",
       "      <th>1</th>\n",
       "      <td>108590</td>\n",
       "      <td>1</td>\n",
       "      <td>0.0</td>\n",
       "      <td>0.0</td>\n",
       "      <td>0.0</td>\n",
       "      <td>0.0</td>\n",
       "      <td>0.0</td>\n",
       "      <td>0.0</td>\n",
       "      <td>0.0</td>\n",
       "      <td>0.0</td>\n",
       "      <td>...</td>\n",
       "      <td>0.0</td>\n",
       "      <td>0.0</td>\n",
       "      <td>1.0</td>\n",
       "      <td>0.0</td>\n",
       "      <td>0.0</td>\n",
       "      <td>0.0</td>\n",
       "      <td>0.0</td>\n",
       "      <td>0.0</td>\n",
       "      <td>0.0</td>\n",
       "      <td>0.0</td>\n",
       "    </tr>\n",
       "    <tr>\n",
       "      <th>2</th>\n",
       "      <td>5000</td>\n",
       "      <td>0</td>\n",
       "      <td>0.0</td>\n",
       "      <td>0.0</td>\n",
       "      <td>0.0</td>\n",
       "      <td>0.0</td>\n",
       "      <td>0.0</td>\n",
       "      <td>0.0</td>\n",
       "      <td>0.0</td>\n",
       "      <td>0.0</td>\n",
       "      <td>...</td>\n",
       "      <td>0.0</td>\n",
       "      <td>1.0</td>\n",
       "      <td>0.0</td>\n",
       "      <td>0.0</td>\n",
       "      <td>0.0</td>\n",
       "      <td>0.0</td>\n",
       "      <td>0.0</td>\n",
       "      <td>0.0</td>\n",
       "      <td>0.0</td>\n",
       "      <td>0.0</td>\n",
       "    </tr>\n",
       "    <tr>\n",
       "      <th>3</th>\n",
       "      <td>6692</td>\n",
       "      <td>1</td>\n",
       "      <td>0.0</td>\n",
       "      <td>0.0</td>\n",
       "      <td>0.0</td>\n",
       "      <td>0.0</td>\n",
       "      <td>0.0</td>\n",
       "      <td>0.0</td>\n",
       "      <td>0.0</td>\n",
       "      <td>0.0</td>\n",
       "      <td>...</td>\n",
       "      <td>1.0</td>\n",
       "      <td>0.0</td>\n",
       "      <td>0.0</td>\n",
       "      <td>1.0</td>\n",
       "      <td>0.0</td>\n",
       "      <td>0.0</td>\n",
       "      <td>0.0</td>\n",
       "      <td>0.0</td>\n",
       "      <td>0.0</td>\n",
       "      <td>0.0</td>\n",
       "    </tr>\n",
       "    <tr>\n",
       "      <th>4</th>\n",
       "      <td>142590</td>\n",
       "      <td>1</td>\n",
       "      <td>0.0</td>\n",
       "      <td>0.0</td>\n",
       "      <td>0.0</td>\n",
       "      <td>0.0</td>\n",
       "      <td>0.0</td>\n",
       "      <td>0.0</td>\n",
       "      <td>0.0</td>\n",
       "      <td>0.0</td>\n",
       "      <td>...</td>\n",
       "      <td>1.0</td>\n",
       "      <td>0.0</td>\n",
       "      <td>0.0</td>\n",
       "      <td>0.0</td>\n",
       "      <td>1.0</td>\n",
       "      <td>0.0</td>\n",
       "      <td>0.0</td>\n",
       "      <td>0.0</td>\n",
       "      <td>0.0</td>\n",
       "      <td>0.0</td>\n",
       "    </tr>\n",
       "  </tbody>\n",
       "</table>\n",
       "<p>5 rows × 400 columns</p>\n",
       "</div>"
      ],
      "text/plain": [
       "   ASK_AMT  IS_SUCCESSFUL  NAME_2 - 5 donations  NAME_AACE INTERNATIONAL  \\\n",
       "0     5000              1                   0.0                      0.0   \n",
       "1   108590              1                   0.0                      0.0   \n",
       "2     5000              0                   0.0                      0.0   \n",
       "3     6692              1                   0.0                      0.0   \n",
       "4   142590              1                   0.0                      0.0   \n",
       "\n",
       "   NAME_ACE MENTOR PROGRAM OF AMERICA INC  \\\n",
       "0                                     0.0   \n",
       "1                                     0.0   \n",
       "2                                     0.0   \n",
       "3                                     0.0   \n",
       "4                                     0.0   \n",
       "\n",
       "   NAME_AFRICAN-AMERICAN POSTAL LEAGUE UNITED FOR SUCCESS A-PLUS  \\\n",
       "0                                                0.0               \n",
       "1                                                0.0               \n",
       "2                                                0.0               \n",
       "3                                                0.0               \n",
       "4                                                0.0               \n",
       "\n",
       "   NAME_AIR FORCE ASSOCIATION  NAME_ALABAMA FEDERATION OF WOMENS CLUBS  \\\n",
       "0                         0.0                                      0.0   \n",
       "1                         0.0                                      0.0   \n",
       "2                         0.0                                      0.0   \n",
       "3                         0.0                                      0.0   \n",
       "4                         0.0                                      0.0   \n",
       "\n",
       "   NAME_ALABAMA TREASURE FOREST ASSOCIATION  \\\n",
       "0                                       0.0   \n",
       "1                                       0.0   \n",
       "2                                       0.0   \n",
       "3                                       0.0   \n",
       "4                                       0.0   \n",
       "\n",
       "   NAME_ALBANY STATE UNIVERSITY NATIONAL ALUMNI ASSOCIATION  ...  \\\n",
       "0                                                0.0         ...   \n",
       "1                                                0.0         ...   \n",
       "2                                                0.0         ...   \n",
       "3                                                0.0         ...   \n",
       "4                                                0.0         ...   \n",
       "\n",
       "   ORGANIZATION_Trust  INCOME_AMT_0  INCOME_AMT_1-9999  \\\n",
       "0                 0.0           1.0                0.0   \n",
       "1                 0.0           0.0                1.0   \n",
       "2                 0.0           1.0                0.0   \n",
       "3                 1.0           0.0                0.0   \n",
       "4                 1.0           0.0                0.0   \n",
       "\n",
       "   INCOME_AMT_10000-24999  INCOME_AMT_100000-499999  INCOME_AMT_10M-50M  \\\n",
       "0                     0.0                       0.0                 0.0   \n",
       "1                     0.0                       0.0                 0.0   \n",
       "2                     0.0                       0.0                 0.0   \n",
       "3                     1.0                       0.0                 0.0   \n",
       "4                     0.0                       1.0                 0.0   \n",
       "\n",
       "   INCOME_AMT_1M-5M  INCOME_AMT_25000-99999  INCOME_AMT_50M+  \\\n",
       "0               0.0                     0.0              0.0   \n",
       "1               0.0                     0.0              0.0   \n",
       "2               0.0                     0.0              0.0   \n",
       "3               0.0                     0.0              0.0   \n",
       "4               0.0                     0.0              0.0   \n",
       "\n",
       "   INCOME_AMT_5M-10M  \n",
       "0                0.0  \n",
       "1                0.0  \n",
       "2                0.0  \n",
       "3                0.0  \n",
       "4                0.0  \n",
       "\n",
       "[5 rows x 400 columns]"
      ]
     },
     "execution_count": 29,
     "metadata": {},
     "output_type": "execute_result"
    }
   ],
   "source": [
    "# Merge one-hot encoded features and drop the originals\n",
    "application_df = application_df.merge(encode_df, left_index=True, right_index=True)\n",
    "application_df = application_df.drop(columns=application_cat) \n",
    "application_df.head()"
   ]
  },
  {
   "cell_type": "code",
   "execution_count": 30,
   "metadata": {},
   "outputs": [],
   "source": [
    "# Save merged DataFrame\n",
    "application_df.to_csv(f'./Data/applications_encoded_{nn_vers}.csv')"
   ]
  },
  {
   "cell_type": "code",
   "execution_count": 31,
   "metadata": {},
   "outputs": [],
   "source": [
    "# Split the preprocessed data into features and target arrays\n",
    "y = application_df[\"IS_SUCCESSFUL\"].values\n",
    "X = application_df.drop(columns=[\"IS_SUCCESSFUL\"]).values\n",
    "\n",
    "# Split the preprocessed data into a training and testing dataset\n",
    "X_train, X_test, y_train, y_test = train_test_split(X, y, random_state=78)"
   ]
  },
  {
   "cell_type": "code",
   "execution_count": 32,
   "metadata": {},
   "outputs": [],
   "source": [
    "# Create a StandardScaler instances\n",
    "scaler = StandardScaler()\n",
    "\n",
    "# Fit the StandardScaler\n",
    "X_scaler = scaler.fit(X_train)\n",
    "\n",
    "# Scale the data\n",
    "X_train_scaled = X_scaler.transform(X_train)\n",
    "X_test_scaled = X_scaler.transform(X_test)"
   ]
  },
  {
   "cell_type": "markdown",
   "metadata": {},
   "source": [
    "### Compile the Model"
   ]
  },
  {
   "cell_type": "code",
   "execution_count": 33,
   "metadata": {},
   "outputs": [
    {
     "name": "stdout",
     "output_type": "stream",
     "text": [
      "Model: \"sequential\"\n",
      "_________________________________________________________________\n",
      " Layer (type)                Output Shape              Param #   \n",
      "=================================================================\n",
      " dense (Dense)               (None, 798)               319200    \n",
      "                                                                 \n",
      " dense_1 (Dense)             (None, 532)               425068    \n",
      "                                                                 \n",
      " dense_2 (Dense)             (None, 266)               141778    \n",
      "                                                                 \n",
      " dense_3 (Dense)             (None, 1)                 267       \n",
      "                                                                 \n",
      "=================================================================\n",
      "Total params: 886,313\n",
      "Trainable params: 886,313\n",
      "Non-trainable params: 0\n",
      "_________________________________________________________________\n"
     ]
    }
   ],
   "source": [
    "# Define number of input features and hidden nodes for each layer\n",
    "inputs_len = len(X_train_scaled[0])\n",
    "\n",
    "nn_layers = 3\n",
    "\n",
    "# Decrease each number of nodes per layer by n_scale_l1 / nn_layers\n",
    "n_scale_l1 = 2\n",
    "n_scale_l2 = n_scale_l1 - (n_scale_l1 / nn_layers * 1)\n",
    "n_scale_l3 = n_scale_l1 - (n_scale_l1 / nn_layers * 2)\n",
    "\n",
    "nodes_l1 = round(inputs_len * n_scale_l1)\n",
    "nodes_l2 = round(inputs_len * n_scale_l2)\n",
    "nodes_l3 = round(inputs_len * n_scale_l3)\n",
    "\n",
    "# Instantiate the deep neural net model\n",
    "nn = tf.keras.models.Sequential()\n",
    "\n",
    "# First hidden layer\n",
    "nn.add(tf.keras.layers.Dense(\n",
    "    units=nodes_l1,\n",
    "    activation=\"relu\",\n",
    "    input_dim=inputs_len))\n",
    "\n",
    "# Second hidden layer\n",
    "nn.add(tf.keras.layers.Dense(\n",
    "    units=nodes_l2,\n",
    "    activation=\"relu\",\n",
    "    input_dim=nodes_l1))\n",
    "\n",
    "# Third hidden layer\n",
    "nn.add(tf.keras.layers.Dense(\n",
    "    units=nodes_l3,\n",
    "    activation=\"relu\",\n",
    "    input_dim=nodes_l2))\n",
    "\n",
    "# Output layer\n",
    "nn.add(tf.keras.layers.Dense(\n",
    "    units=1,\n",
    "    activation=\"sigmoid\"))\n",
    "\n",
    "# Check the structure of the model\n",
    "nn.summary()"
   ]
  },
  {
   "cell_type": "code",
   "execution_count": 34,
   "metadata": {},
   "outputs": [],
   "source": [
    "# Compile the model\n",
    "nn.compile(loss=\"binary_crossentropy\", optimizer=\"adam\", metrics=[\"accuracy\"])"
   ]
  },
  {
   "cell_type": "code",
   "execution_count": 35,
   "metadata": {},
   "outputs": [
    {
     "name": "stdout",
     "output_type": "stream",
     "text": [
      "WARNING:tensorflow:`period` argument is deprecated. Please use `save_freq` to specify the frequency in number of batches seen.\n"
     ]
    }
   ],
   "source": [
    "# Create checkpoint\n",
    "os.makedirs(f'Checkpoints/v{nn_vers}', exist_ok=True)\n",
    "checkpoint_path = f'Checkpoints/v{nn_vers}/' +'weights.{epoch:02d}.hdf5'\n",
    "\n",
    "cp_callback = tf.keras.callbacks.ModelCheckpoint(\n",
    "    filepath=checkpoint_path,\n",
    "    verbose=1,\n",
    "    save_weights_only=True,\n",
    "    save_freq='epoch',\n",
    "    period=5)"
   ]
  },
  {
   "cell_type": "code",
   "execution_count": 36,
   "metadata": {},
   "outputs": [
    {
     "name": "stdout",
     "output_type": "stream",
     "text": [
      "Epoch 1/100\n",
      "804/804 [==============================] - 10s 11ms/step - loss: 0.4673 - accuracy: 0.7818\n",
      "Epoch 2/100\n",
      "804/804 [==============================] - 6s 8ms/step - loss: 0.4339 - accuracy: 0.7922\n",
      "Epoch 3/100\n",
      "804/804 [==============================] - 7s 9ms/step - loss: 0.4304 - accuracy: 0.7946\n",
      "Epoch 4/100\n",
      "804/804 [==============================] - 6s 8ms/step - loss: 0.4268 - accuracy: 0.7957\n",
      "Epoch 5/100\n",
      "800/804 [============================>.] - ETA: 0s - loss: 0.4250 - accuracy: 0.7967\n",
      "Epoch 5: saving model to Checkpoints/v4\\weights.05.hdf5\n",
      "804/804 [==============================] - 6s 8ms/step - loss: 0.4251 - accuracy: 0.7967\n",
      "Epoch 6/100\n",
      "804/804 [==============================] - 6s 8ms/step - loss: 0.4233 - accuracy: 0.7984\n",
      "Epoch 7/100\n",
      "804/804 [==============================] - 6s 8ms/step - loss: 0.4245 - accuracy: 0.7973\n",
      "Epoch 8/100\n",
      "804/804 [==============================] - 7s 8ms/step - loss: 0.4223 - accuracy: 0.7987\n",
      "Epoch 9/100\n",
      "804/804 [==============================] - 7s 9ms/step - loss: 0.4207 - accuracy: 0.7989\n",
      "Epoch 10/100\n",
      "800/804 [============================>.] - ETA: 0s - loss: 0.4201 - accuracy: 0.8003\n",
      "Epoch 10: saving model to Checkpoints/v4\\weights.10.hdf5\n",
      "804/804 [==============================] - 6s 8ms/step - loss: 0.4201 - accuracy: 0.8000\n",
      "Epoch 11/100\n",
      "804/804 [==============================] - 7s 8ms/step - loss: 0.4191 - accuracy: 0.8009\n",
      "Epoch 12/100\n",
      "804/804 [==============================] - 7s 9ms/step - loss: 0.4183 - accuracy: 0.8021\n",
      "Epoch 13/100\n",
      "804/804 [==============================] - 6s 8ms/step - loss: 0.4179 - accuracy: 0.8018\n",
      "Epoch 14/100\n",
      "804/804 [==============================] - 6s 8ms/step - loss: 0.4163 - accuracy: 0.8026\n",
      "Epoch 15/100\n",
      "801/804 [============================>.] - ETA: 0s - loss: 0.4168 - accuracy: 0.8032\n",
      "Epoch 15: saving model to Checkpoints/v4\\weights.15.hdf5\n",
      "804/804 [==============================] - 6s 7ms/step - loss: 0.4166 - accuracy: 0.8034\n",
      "Epoch 16/100\n",
      "804/804 [==============================] - 6s 7ms/step - loss: 0.4148 - accuracy: 0.8040\n",
      "Epoch 17/100\n",
      "804/804 [==============================] - 5s 7ms/step - loss: 0.4140 - accuracy: 0.8049\n",
      "Epoch 18/100\n",
      "804/804 [==============================] - 5s 6ms/step - loss: 0.4141 - accuracy: 0.8040\n",
      "Epoch 19/100\n",
      "804/804 [==============================] - 5s 6ms/step - loss: 0.4148 - accuracy: 0.8047\n",
      "Epoch 20/100\n",
      "799/804 [============================>.] - ETA: 0s - loss: 0.4123 - accuracy: 0.8047\n",
      "Epoch 20: saving model to Checkpoints/v4\\weights.20.hdf5\n",
      "804/804 [==============================] - 5s 7ms/step - loss: 0.4126 - accuracy: 0.8046\n",
      "Epoch 21/100\n",
      "804/804 [==============================] - 5s 7ms/step - loss: 0.4119 - accuracy: 0.8054\n",
      "Epoch 22/100\n",
      "804/804 [==============================] - 5s 6ms/step - loss: 0.4106 - accuracy: 0.8054\n",
      "Epoch 23/100\n",
      "804/804 [==============================] - 5s 6ms/step - loss: 0.4111 - accuracy: 0.8073\n",
      "Epoch 24/100\n",
      "804/804 [==============================] - 5s 6ms/step - loss: 0.4102 - accuracy: 0.8072\n",
      "Epoch 25/100\n",
      "797/804 [============================>.] - ETA: 0s - loss: 0.4088 - accuracy: 0.8068\n",
      "Epoch 25: saving model to Checkpoints/v4\\weights.25.hdf5\n",
      "804/804 [==============================] - 5s 7ms/step - loss: 0.4091 - accuracy: 0.8068\n",
      "Epoch 26/100\n",
      "804/804 [==============================] - 5s 6ms/step - loss: 0.4084 - accuracy: 0.8066\n",
      "Epoch 27/100\n",
      "804/804 [==============================] - 5s 6ms/step - loss: 0.4079 - accuracy: 0.8073\n",
      "Epoch 28/100\n",
      "804/804 [==============================] - 6s 7ms/step - loss: 0.4088 - accuracy: 0.8078\n",
      "Epoch 29/100\n",
      "804/804 [==============================] - 5s 7ms/step - loss: 0.4070 - accuracy: 0.8074\n",
      "Epoch 30/100\n",
      "799/804 [============================>.] - ETA: 0s - loss: 0.4081 - accuracy: 0.8075\n",
      "Epoch 30: saving model to Checkpoints/v4\\weights.30.hdf5\n",
      "804/804 [==============================] - 5s 6ms/step - loss: 0.4079 - accuracy: 0.8077\n",
      "Epoch 31/100\n",
      "804/804 [==============================] - 5s 6ms/step - loss: 0.4056 - accuracy: 0.8070\n",
      "Epoch 32/100\n",
      "804/804 [==============================] - 5s 6ms/step - loss: 0.4072 - accuracy: 0.8077\n",
      "Epoch 33/100\n",
      "804/804 [==============================] - 5s 7ms/step - loss: 0.4060 - accuracy: 0.8069\n",
      "Epoch 34/100\n",
      "804/804 [==============================] - 5s 7ms/step - loss: 0.4043 - accuracy: 0.8088\n",
      "Epoch 35/100\n",
      "798/804 [============================>.] - ETA: 0s - loss: 0.4042 - accuracy: 0.8086\n",
      "Epoch 35: saving model to Checkpoints/v4\\weights.35.hdf5\n",
      "804/804 [==============================] - 5s 7ms/step - loss: 0.4040 - accuracy: 0.8087\n",
      "Epoch 36/100\n",
      "804/804 [==============================] - 5s 7ms/step - loss: 0.4046 - accuracy: 0.8094\n",
      "Epoch 37/100\n",
      "804/804 [==============================] - 5s 7ms/step - loss: 0.4041 - accuracy: 0.8090\n",
      "Epoch 38/100\n",
      "804/804 [==============================] - 5s 7ms/step - loss: 0.4021 - accuracy: 0.8101\n",
      "Epoch 39/100\n",
      "804/804 [==============================] - 5s 7ms/step - loss: 0.4019 - accuracy: 0.8085\n",
      "Epoch 40/100\n",
      "800/804 [============================>.] - ETA: 0s - loss: 0.4016 - accuracy: 0.8096\n",
      "Epoch 40: saving model to Checkpoints/v4\\weights.40.hdf5\n",
      "804/804 [==============================] - 5s 7ms/step - loss: 0.4019 - accuracy: 0.8093\n",
      "Epoch 41/100\n",
      "804/804 [==============================] - 5s 7ms/step - loss: 0.4017 - accuracy: 0.8100\n",
      "Epoch 42/100\n",
      "804/804 [==============================] - 5s 7ms/step - loss: 0.4057 - accuracy: 0.8083\n",
      "Epoch 43/100\n",
      "804/804 [==============================] - 5s 7ms/step - loss: 0.4047 - accuracy: 0.8097\n",
      "Epoch 44/100\n",
      "804/804 [==============================] - 5s 7ms/step - loss: 0.4012 - accuracy: 0.8095\n",
      "Epoch 45/100\n",
      "802/804 [============================>.] - ETA: 0s - loss: 0.4007 - accuracy: 0.8100\n",
      "Epoch 45: saving model to Checkpoints/v4\\weights.45.hdf5\n",
      "804/804 [==============================] - 6s 7ms/step - loss: 0.4008 - accuracy: 0.8100\n",
      "Epoch 46/100\n",
      "804/804 [==============================] - 6s 7ms/step - loss: 0.4031 - accuracy: 0.8092\n",
      "Epoch 47/100\n",
      "804/804 [==============================] - 6s 7ms/step - loss: 0.4015 - accuracy: 0.8096\n",
      "Epoch 48/100\n",
      "804/804 [==============================] - 5s 7ms/step - loss: 0.4007 - accuracy: 0.8101\n",
      "Epoch 49/100\n",
      "804/804 [==============================] - 5s 7ms/step - loss: 0.4000 - accuracy: 0.8097\n",
      "Epoch 50/100\n",
      "799/804 [============================>.] - ETA: 0s - loss: 0.3999 - accuracy: 0.8110\n",
      "Epoch 50: saving model to Checkpoints/v4\\weights.50.hdf5\n",
      "804/804 [==============================] - 5s 7ms/step - loss: 0.4008 - accuracy: 0.8104\n",
      "Epoch 51/100\n",
      "804/804 [==============================] - 5s 7ms/step - loss: 0.4012 - accuracy: 0.8097\n",
      "Epoch 52/100\n",
      "804/804 [==============================] - 6s 7ms/step - loss: 0.4058 - accuracy: 0.8093\n",
      "Epoch 53/100\n",
      "804/804 [==============================] - 6s 7ms/step - loss: 0.3997 - accuracy: 0.8099\n",
      "Epoch 54/100\n",
      "804/804 [==============================] - 5s 7ms/step - loss: 0.3995 - accuracy: 0.8099\n",
      "Epoch 55/100\n",
      "804/804 [==============================] - ETA: 0s - loss: 0.3983 - accuracy: 0.8108\n",
      "Epoch 55: saving model to Checkpoints/v4\\weights.55.hdf5\n",
      "804/804 [==============================] - 6s 7ms/step - loss: 0.3983 - accuracy: 0.8108\n",
      "Epoch 56/100\n",
      "804/804 [==============================] - 5s 7ms/step - loss: 0.3988 - accuracy: 0.8103\n",
      "Epoch 57/100\n",
      "804/804 [==============================] - 6s 7ms/step - loss: 0.3997 - accuracy: 0.8099\n",
      "Epoch 58/100\n",
      "804/804 [==============================] - 6s 7ms/step - loss: 0.3996 - accuracy: 0.8105\n",
      "Epoch 59/100\n",
      "804/804 [==============================] - 6s 7ms/step - loss: 0.3997 - accuracy: 0.8095\n",
      "Epoch 60/100\n",
      "802/804 [============================>.] - ETA: 0s - loss: 0.3988 - accuracy: 0.8098\n",
      "Epoch 60: saving model to Checkpoints/v4\\weights.60.hdf5\n",
      "804/804 [==============================] - 5s 7ms/step - loss: 0.3986 - accuracy: 0.8099\n",
      "Epoch 61/100\n",
      "804/804 [==============================] - 5s 7ms/step - loss: 0.3995 - accuracy: 0.8101\n",
      "Epoch 62/100\n",
      "804/804 [==============================] - 5s 7ms/step - loss: 0.3980 - accuracy: 0.8104\n",
      "Epoch 63/100\n",
      "804/804 [==============================] - 5s 7ms/step - loss: 0.3974 - accuracy: 0.8104\n",
      "Epoch 64/100\n",
      "804/804 [==============================] - 5s 7ms/step - loss: 0.3978 - accuracy: 0.8107\n",
      "Epoch 65/100\n",
      "797/804 [============================>.] - ETA: 0s - loss: 0.3980 - accuracy: 0.8102\n",
      "Epoch 65: saving model to Checkpoints/v4\\weights.65.hdf5\n",
      "804/804 [==============================] - 6s 7ms/step - loss: 0.3979 - accuracy: 0.8102\n",
      "Epoch 66/100\n",
      "804/804 [==============================] - 6s 7ms/step - loss: 0.3980 - accuracy: 0.8108\n",
      "Epoch 67/100\n",
      "804/804 [==============================] - 6s 7ms/step - loss: 0.4137 - accuracy: 0.8095\n",
      "Epoch 68/100\n",
      "804/804 [==============================] - 6s 7ms/step - loss: 0.3975 - accuracy: 0.8107\n",
      "Epoch 69/100\n",
      "804/804 [==============================] - 6s 7ms/step - loss: 0.3969 - accuracy: 0.8109\n",
      "Epoch 70/100\n",
      "798/804 [============================>.] - ETA: 0s - loss: 0.3969 - accuracy: 0.8100\n",
      "Epoch 70: saving model to Checkpoints/v4\\weights.70.hdf5\n",
      "804/804 [==============================] - 6s 7ms/step - loss: 0.3967 - accuracy: 0.8103\n",
      "Epoch 71/100\n",
      "804/804 [==============================] - 6s 7ms/step - loss: 0.3964 - accuracy: 0.8114\n",
      "Epoch 72/100\n",
      "804/804 [==============================] - 5s 7ms/step - loss: 0.3968 - accuracy: 0.8110\n",
      "Epoch 73/100\n",
      "804/804 [==============================] - 5s 7ms/step - loss: 0.3983 - accuracy: 0.8108\n",
      "Epoch 74/100\n",
      "804/804 [==============================] - 6s 7ms/step - loss: 0.3973 - accuracy: 0.8109\n",
      "Epoch 75/100\n",
      "800/804 [============================>.] - ETA: 0s - loss: 0.3964 - accuracy: 0.8108\n",
      "Epoch 75: saving model to Checkpoints/v4\\weights.75.hdf5\n",
      "804/804 [==============================] - 5s 7ms/step - loss: 0.3966 - accuracy: 0.8106\n",
      "Epoch 76/100\n",
      "804/804 [==============================] - 5s 7ms/step - loss: 0.3982 - accuracy: 0.8106\n",
      "Epoch 77/100\n",
      "804/804 [==============================] - 5s 7ms/step - loss: 0.3965 - accuracy: 0.8105\n",
      "Epoch 78/100\n",
      "804/804 [==============================] - 5s 6ms/step - loss: 0.4053 - accuracy: 0.8102\n",
      "Epoch 79/100\n",
      "804/804 [==============================] - 5s 7ms/step - loss: 0.4039 - accuracy: 0.8062\n",
      "Epoch 80/100\n",
      "802/804 [============================>.] - ETA: 0s - loss: 0.3979 - accuracy: 0.8101\n",
      "Epoch 80: saving model to Checkpoints/v4\\weights.80.hdf5\n",
      "804/804 [==============================] - 5s 7ms/step - loss: 0.3977 - accuracy: 0.8102\n",
      "Epoch 81/100\n",
      "804/804 [==============================] - 5s 6ms/step - loss: 0.3973 - accuracy: 0.8101\n",
      "Epoch 82/100\n",
      "804/804 [==============================] - 5s 6ms/step - loss: 0.3987 - accuracy: 0.8104\n",
      "Epoch 83/100\n",
      "804/804 [==============================] - 5s 6ms/step - loss: 0.3963 - accuracy: 0.8113\n",
      "Epoch 84/100\n",
      "804/804 [==============================] - 5s 6ms/step - loss: 0.3967 - accuracy: 0.8111\n",
      "Epoch 85/100\n",
      "804/804 [==============================] - ETA: 0s - loss: 0.3963 - accuracy: 0.8106\n",
      "Epoch 85: saving model to Checkpoints/v4\\weights.85.hdf5\n",
      "804/804 [==============================] - 5s 6ms/step - loss: 0.3963 - accuracy: 0.8106\n",
      "Epoch 86/100\n",
      "804/804 [==============================] - 5s 6ms/step - loss: 0.3960 - accuracy: 0.8101\n",
      "Epoch 87/100\n",
      "804/804 [==============================] - 5s 6ms/step - loss: 0.4009 - accuracy: 0.8088\n",
      "Epoch 88/100\n",
      "804/804 [==============================] - 5s 6ms/step - loss: 0.4000 - accuracy: 0.8102\n",
      "Epoch 89/100\n",
      "804/804 [==============================] - 5s 6ms/step - loss: 0.3962 - accuracy: 0.8107\n",
      "Epoch 90/100\n",
      "799/804 [============================>.] - ETA: 0s - loss: 0.3959 - accuracy: 0.8100\n",
      "Epoch 90: saving model to Checkpoints/v4\\weights.90.hdf5\n",
      "804/804 [==============================] - 5s 7ms/step - loss: 0.3963 - accuracy: 0.8100\n",
      "Epoch 91/100\n",
      "804/804 [==============================] - 5s 7ms/step - loss: 0.3962 - accuracy: 0.8102\n",
      "Epoch 92/100\n",
      "804/804 [==============================] - 5s 7ms/step - loss: 0.3959 - accuracy: 0.8103\n",
      "Epoch 93/100\n",
      "804/804 [==============================] - 5s 7ms/step - loss: 0.3973 - accuracy: 0.8106\n",
      "Epoch 94/100\n",
      "804/804 [==============================] - 6s 7ms/step - loss: 0.3953 - accuracy: 0.8104\n",
      "Epoch 95/100\n",
      "801/804 [============================>.] - ETA: 0s - loss: 0.3987 - accuracy: 0.8106\n",
      "Epoch 95: saving model to Checkpoints/v4\\weights.95.hdf5\n",
      "804/804 [==============================] - 5s 7ms/step - loss: 0.3986 - accuracy: 0.8108\n",
      "Epoch 96/100\n",
      "804/804 [==============================] - 5s 7ms/step - loss: 0.3975 - accuracy: 0.8104\n",
      "Epoch 97/100\n",
      "804/804 [==============================] - 5s 7ms/step - loss: 0.3965 - accuracy: 0.8110\n",
      "Epoch 98/100\n",
      "804/804 [==============================] - 5s 7ms/step - loss: 0.3973 - accuracy: 0.8102\n",
      "Epoch 99/100\n",
      "804/804 [==============================] - 5s 7ms/step - loss: 0.4301 - accuracy: 0.8088\n",
      "Epoch 100/100\n",
      "801/804 [============================>.] - ETA: 0s - loss: 0.3957 - accuracy: 0.8093\n",
      "Epoch 100: saving model to Checkpoints/v4\\weights.100.hdf5\n",
      "804/804 [==============================] - 5s 7ms/step - loss: 0.3956 - accuracy: 0.8093\n"
     ]
    }
   ],
   "source": [
    "# Train the model\n",
    "fit_model = nn.fit(\n",
    "    X_train_scaled,\n",
    "    y_train,\n",
    "    epochs=100,\n",
    "    callbacks=[cp_callback])"
   ]
  },
  {
   "cell_type": "markdown",
   "metadata": {},
   "source": [
    "### Evaluate Model for Loss and Accuracy"
   ]
  },
  {
   "cell_type": "code",
   "execution_count": 37,
   "metadata": {},
   "outputs": [
    {
     "data": {
      "image/png": "[encoded data removed]",
      "text/plain": [
       "<Figure size 512x288 with 1 Axes>"
      ]
     },
     "metadata": {},
     "output_type": "display_data"
    }
   ],
   "source": [
    "# Create DataFrame containing training history\n",
    "history_df = pd.DataFrame(\n",
    "    fit_model.history,\n",
    "    index=range(1,len(fit_model.history[\"loss\"])+1))\n",
    "\n",
    "history_df.plot(\n",
    "    y='loss',\n",
    "    xlabel='Training Epoch',\n",
    "    ylabel='Loss',\n",
    "    title=f'Loss for Neural Network v{nn_vers}',\n",
    "    figsize=((16/9 * 4), 4)\n",
    "    )\n",
    "\n",
    "plt.savefig(f'Images/v{nn_vers}_loss.png')"
   ]
  },
  {
   "cell_type": "code",
   "execution_count": 38,
   "metadata": {},
   "outputs": [
    {
     "data": {
      "image/png": "[encoded data removed]",
      "text/plain": [
       "<Figure size 512x288 with 1 Axes>"
      ]
     },
     "metadata": {},
     "output_type": "display_data"
    }
   ],
   "source": [
    "history_df.plot(\n",
    "    y='accuracy',\n",
    "    xlabel='Training Epoch',\n",
    "    ylabel='Accuracy',\n",
    "    title=f'Accuracy for Neural Network v{nn_vers}',\n",
    "    figsize=((16/9 * 4), 4)\n",
    ")\n",
    "\n",
    "plt.savefig(f'Images/v{nn_vers}_accuracy.png')"
   ]
  },
  {
   "cell_type": "code",
   "execution_count": 39,
   "metadata": {},
   "outputs": [
    {
     "name": "stdout",
     "output_type": "stream",
     "text": [
      "Neural Network Version 4 Test Evaluation\n",
      "268/268 - 1s - loss: 0.7449 - accuracy: 0.7874 - 885ms/epoch - 3ms/step\n",
      "Loss: 0.7449324727058411, Accuracy: 0.787405252456665\n"
     ]
    }
   ],
   "source": [
    "# Evaluate the model using the test data\n",
    "print(f'Neural Network Version {nn_vers} Test Evaluation')\n",
    "model_loss, model_accuracy = nn.evaluate(X_test_scaled, y_test, verbose=2)\n",
    "print(f\"Loss: {model_loss}, Accuracy: {model_accuracy}\")"
   ]
  },
  {
   "cell_type": "code",
   "execution_count": 40,
   "metadata": {},
   "outputs": [],
   "source": [
    "# Export model to HDF5 file\n",
    "nn.save(f'Trained_Models/trained_model_{nn_vers}.h5')"
   ]
  }
 ],
 "metadata": {
  "kernelspec": {
   "display_name": "Python 3.7.13 ('mlenv')",
   "language": "python",
   "name": "python3"
  },
  "language_info": {
   "codemirror_mode": {
    "name": "ipython",
    "version": 3
   },
   "file_extension": ".py",
   "mimetype": "text/x-python",
   "name": "python",
   "nbconvert_exporter": "python",
   "pygments_lexer": "ipython3",
   "version": "3.7.13"
  },
  "vscode": {
   "interpreter": {
    "hash": "bbc7bfc93d1e3e56daa686cc6e2f3441ee96e0bb404360dbb8abc699be8958c5"
   }
  }
 },
 "nbformat": 4,
 "nbformat_minor": 2
}
